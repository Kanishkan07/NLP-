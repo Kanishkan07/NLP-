{
 "cells": [
  {
   "cell_type": "markdown",
   "id": "a5b1de22",
   "metadata": {},
   "source": [
    "# TEXT FILES"
   ]
  },
  {
   "cell_type": "code",
   "execution_count": 1,
   "id": "f48b52ff",
   "metadata": {},
   "outputs": [
    {
     "name": "stdout",
     "output_type": "stream",
     "text": [
      "Overwriting test.txt\n"
     ]
    }
   ],
   "source": [
    "%%writefile test.txt\n",
    "Im writing here,\n",
    "writing in next line\n",
    "its a three line text file"
   ]
  },
  {
   "cell_type": "code",
   "execution_count": 2,
   "id": "f74af8ea",
   "metadata": {},
   "outputs": [
    {
     "data": {
      "text/plain": [
       "'C:\\\\Users\\\\kanik'"
      ]
     },
     "execution_count": 2,
     "metadata": {},
     "output_type": "execute_result"
    }
   ],
   "source": [
    "pwd  #path of the text file"
   ]
  },
  {
   "cell_type": "code",
   "execution_count": 3,
   "id": "701975c1",
   "metadata": {},
   "outputs": [
    {
     "data": {
      "text/plain": [
       "<_io.TextIOWrapper name='test.txt' mode='r' encoding='cp1252'>"
      ]
     },
     "execution_count": 3,
     "metadata": {},
     "output_type": "execute_result"
    }
   ],
   "source": [
    "file_one = open('test.txt')\n",
    "file_one"
   ]
  },
  {
   "cell_type": "code",
   "execution_count": 4,
   "id": "6061e92f",
   "metadata": {},
   "outputs": [
    {
     "data": {
      "text/plain": [
       "'Im writing here,\\nwriting in next line\\nits a three line text file\\n'"
      ]
     },
     "execution_count": 4,
     "metadata": {},
     "output_type": "execute_result"
    }
   ],
   "source": [
    "file_one.read()  #to read the text in the file"
   ]
  },
  {
   "cell_type": "code",
   "execution_count": 5,
   "id": "d7c476d3",
   "metadata": {},
   "outputs": [
    {
     "data": {
      "text/plain": [
       "''"
      ]
     },
     "execution_count": 5,
     "metadata": {},
     "output_type": "execute_result"
    }
   ],
   "source": [
    " file_one.read()  "
   ]
  },
  {
   "cell_type": "code",
   "execution_count": 6,
   "id": "62269b11",
   "metadata": {},
   "outputs": [
    {
     "data": {
      "text/plain": [
       "0"
      ]
     },
     "execution_count": 6,
     "metadata": {},
     "output_type": "execute_result"
    }
   ],
   "source": [
    "file_one.seek(0)"
   ]
  },
  {
   "cell_type": "code",
   "execution_count": 7,
   "id": "85af0717",
   "metadata": {},
   "outputs": [
    {
     "data": {
      "text/plain": [
       "'Im writing here,\\nwriting in next line\\nits a three line text file\\n'"
      ]
     },
     "execution_count": 7,
     "metadata": {},
     "output_type": "execute_result"
    }
   ],
   "source": [
    "file_one.read()"
   ]
  },
  {
   "cell_type": "code",
   "execution_count": 8,
   "id": "e66ec4b5",
   "metadata": {},
   "outputs": [
    {
     "data": {
      "text/plain": [
       "0"
      ]
     },
     "execution_count": 8,
     "metadata": {},
     "output_type": "execute_result"
    }
   ],
   "source": [
    "file_one.seek(0)"
   ]
  },
  {
   "cell_type": "code",
   "execution_count": 9,
   "id": "214755d3",
   "metadata": {},
   "outputs": [
    {
     "data": {
      "text/plain": [
       "['Im writing here,\\n',\n",
       " 'writing in next line\\n',\n",
       " 'its a three line text file\\n']"
      ]
     },
     "execution_count": 9,
     "metadata": {},
     "output_type": "execute_result"
    }
   ],
   "source": [
    "file_one.read()\n",
    "file_one.seek(0)\n",
    "file_one.readlines()"
   ]
  },
  {
   "cell_type": "code",
   "execution_count": 10,
   "id": "f5d3ee2f",
   "metadata": {},
   "outputs": [],
   "source": [
    " file_one.close() #to close the file"
   ]
  },
  {
   "cell_type": "code",
   "execution_count": 11,
   "id": "74492cd9",
   "metadata": {},
   "outputs": [
    {
     "data": {
      "text/plain": [
       "<_io.TextIOWrapper name='test.txt' mode='w+' encoding='cp1252'>"
      ]
     },
     "execution_count": 11,
     "metadata": {},
     "output_type": "execute_result"
    }
   ],
   "source": [
    " file_one = open(\"test.txt\",'w+') #to ovwerwrite in text file\n",
    " file_one"
   ]
  },
  {
   "cell_type": "code",
   "execution_count": 12,
   "id": "64abefc7",
   "metadata": {},
   "outputs": [
    {
     "data": {
      "text/plain": [
       "0"
      ]
     },
     "execution_count": 12,
     "metadata": {},
     "output_type": "execute_result"
    }
   ],
   "source": [
    "file_one.seek(0)"
   ]
  },
  {
   "cell_type": "code",
   "execution_count": 13,
   "id": "cb44cfcd",
   "metadata": {},
   "outputs": [
    {
     "data": {
      "text/plain": [
       "''"
      ]
     },
     "execution_count": 13,
     "metadata": {},
     "output_type": "execute_result"
    }
   ],
   "source": [
    "file_one.read()"
   ]
  },
  {
   "cell_type": "code",
   "execution_count": 14,
   "id": "68dc74bb",
   "metadata": {},
   "outputs": [
    {
     "data": {
      "text/plain": [
       "33"
      ]
     },
     "execution_count": 14,
     "metadata": {},
     "output_type": "execute_result"
    }
   ],
   "source": [
    " file_one.write('this is the new ovwerwriting line')"
   ]
  },
  {
   "cell_type": "code",
   "execution_count": 15,
   "id": "f2bd5b07",
   "metadata": {},
   "outputs": [
    {
     "data": {
      "text/plain": [
       "''"
      ]
     },
     "execution_count": 15,
     "metadata": {},
     "output_type": "execute_result"
    }
   ],
   "source": [
    "file_one.read()"
   ]
  },
  {
   "cell_type": "code",
   "execution_count": 16,
   "id": "a00d80f2",
   "metadata": {},
   "outputs": [
    {
     "data": {
      "text/plain": [
       "0"
      ]
     },
     "execution_count": 16,
     "metadata": {},
     "output_type": "execute_result"
    }
   ],
   "source": [
    "file_one.seek(0)"
   ]
  },
  {
   "cell_type": "code",
   "execution_count": 17,
   "id": "f443ac78",
   "metadata": {},
   "outputs": [
    {
     "data": {
      "text/plain": [
       "'this is the new ovwerwriting line'"
      ]
     },
     "execution_count": 17,
     "metadata": {},
     "output_type": "execute_result"
    }
   ],
   "source": [
    "file_one.read()"
   ]
  },
  {
   "cell_type": "code",
   "execution_count": 18,
   "id": "c1b320fa",
   "metadata": {},
   "outputs": [],
   "source": [
    " file_one.close()\n",
    "    "
   ]
  },
  {
   "cell_type": "code",
   "execution_count": 19,
   "id": "b9f8d3a4",
   "metadata": {},
   "outputs": [],
   "source": [
    "file_one = open(\"test.txt\", 'a+')"
   ]
  },
  {
   "cell_type": "code",
   "execution_count": 20,
   "id": "20413179",
   "metadata": {},
   "outputs": [
    {
     "data": {
      "text/plain": [
       "16"
      ]
     },
     "execution_count": 20,
     "metadata": {},
     "output_type": "execute_result"
    }
   ],
   "source": [
    "file_one.write('this is new line')"
   ]
  },
  {
   "cell_type": "code",
   "execution_count": 21,
   "id": "2e14f36b",
   "metadata": {},
   "outputs": [
    {
     "data": {
      "text/plain": [
       "27"
      ]
     },
     "execution_count": 21,
     "metadata": {},
     "output_type": "execute_result"
    }
   ],
   "source": [
    "file_one.write('this is the second new line')"
   ]
  },
  {
   "cell_type": "code",
   "execution_count": 22,
   "id": "a4ab9571",
   "metadata": {},
   "outputs": [
    {
     "data": {
      "text/plain": [
       "41"
      ]
     },
     "execution_count": 22,
     "metadata": {},
     "output_type": "execute_result"
    }
   ],
   "source": [
    "file_one.write(' this is the third new line iam appending')"
   ]
  },
  {
   "cell_type": "code",
   "execution_count": 23,
   "id": "6b785ad3",
   "metadata": {},
   "outputs": [
    {
     "data": {
      "text/plain": [
       "0"
      ]
     },
     "execution_count": 23,
     "metadata": {},
     "output_type": "execute_result"
    }
   ],
   "source": [
    "file_one.seek(0)"
   ]
  },
  {
   "cell_type": "code",
   "execution_count": 24,
   "id": "d6841b1c",
   "metadata": {},
   "outputs": [
    {
     "data": {
      "text/plain": [
       "'this is the new ovwerwriting linethis is new linethis is the second new line this is the third new line iam appending'"
      ]
     },
     "execution_count": 24,
     "metadata": {},
     "output_type": "execute_result"
    }
   ],
   "source": [
    "file_one.read()"
   ]
  },
  {
   "cell_type": "markdown",
   "id": "d80e545a",
   "metadata": {},
   "source": [
    "# PDF FILES\n"
   ]
  },
  {
   "cell_type": "code",
   "execution_count": 25,
   "id": "4c25a6f8",
   "metadata": {},
   "outputs": [
    {
     "name": "stdout",
     "output_type": "stream",
     "text": [
      "Requirement already satisfied: PyPDF2 in c:\\users\\kanik\\anaconda3\\lib\\site-packages (3.0.1)\n",
      "Requirement already satisfied: typing_extensions>=3.10.0.0 in c:\\users\\kanik\\anaconda3\\lib\\site-packages (from PyPDF2) (4.3.0)\n",
      "Note: you may need to restart the kernel to use updated packages.\n"
     ]
    }
   ],
   "source": [
    "pip install PyPDF2"
   ]
  },
  {
   "cell_type": "code",
   "execution_count": 26,
   "id": "2676728b",
   "metadata": {},
   "outputs": [],
   "source": [
    "import PyPDF2"
   ]
  },
  {
   "cell_type": "code",
   "execution_count": 27,
   "id": "5dc19665",
   "metadata": {},
   "outputs": [],
   "source": [
    "a =  open(\"Module 1.pdf\",\"rb\")"
   ]
  },
  {
   "cell_type": "code",
   "execution_count": 28,
   "id": "b5b0c93c",
   "metadata": {},
   "outputs": [],
   "source": [
    "pdf_reader = PyPDF2.PdfReader(a)"
   ]
  },
  {
   "cell_type": "code",
   "execution_count": 29,
   "id": "1847355d",
   "metadata": {},
   "outputs": [
    {
     "data": {
      "text/plain": [
       "78"
      ]
     },
     "execution_count": 29,
     "metadata": {},
     "output_type": "execute_result"
    }
   ],
   "source": [
    "len(pdf_reader.pages) #no of pages in PDF"
   ]
  },
  {
   "cell_type": "code",
   "execution_count": 30,
   "id": "8cdac37f",
   "metadata": {},
   "outputs": [],
   "source": [
    "page_one = pdf_reader.pages[1]"
   ]
  },
  {
   "cell_type": "code",
   "execution_count": 31,
   "id": "f5433907",
   "metadata": {},
   "outputs": [],
   "source": [
    "page_one_txt = page_one.extract_text()"
   ]
  },
  {
   "cell_type": "code",
   "execution_count": 39,
   "id": "567e039d",
   "metadata": {},
   "outputs": [
    {
     "data": {
      "text/plain": [
       "'Module 1- First order Differential \\nEquations\\nIntroduction to differential equations\\nOrder and degree\\nHomogeneous equations and Non-homogeneous \\nequations\\nSolution by separating variables\\nExact equations\\nSolving first order linear differential equations\\nBernoulli’s Equation\\nPage 2'"
      ]
     },
     "execution_count": 39,
     "metadata": {},
     "output_type": "execute_result"
    }
   ],
   "source": [
    "page_one_txt"
   ]
  },
  {
   "cell_type": "code",
   "execution_count": 40,
   "id": "37623a8c",
   "metadata": {},
   "outputs": [],
   "source": [
    "a.close()"
   ]
  },
  {
   "cell_type": "code",
   "execution_count": 41,
   "id": "fa79a0c7",
   "metadata": {},
   "outputs": [],
   "source": [
    "a =  open(\"Module 1.pdf\",\"rb\")"
   ]
  },
  {
   "cell_type": "code",
   "execution_count": 43,
   "id": "7bdf4bf3",
   "metadata": {},
   "outputs": [],
   "source": [
    "pdf_reader = PyPDF2.PdfReader(a)"
   ]
  },
  {
   "cell_type": "code",
   "execution_count": 44,
   "id": "f71f29fb",
   "metadata": {},
   "outputs": [],
   "source": [
    "first_page = pdf_reader.pages[0]"
   ]
  },
  {
   "cell_type": "code",
   "execution_count": 45,
   "id": "4454b2af",
   "metadata": {},
   "outputs": [],
   "source": [
    "pdf_writer = PyPDF2.PdfWriter()"
   ]
  },
  {
   "cell_type": "code",
   "execution_count": null,
   "id": "ca0dd29a",
   "metadata": {},
   "outputs": [],
   "source": [
    "pdf_writer.add_page(first_page)"
   ]
  },
  {
   "cell_type": "code",
   "execution_count": 38,
   "id": "49c23348",
   "metadata": {},
   "outputs": [],
   "source": [
    "pdf_output = open(\".pdf\",\"wb\")"
   ]
  }
 ],
 "metadata": {
  "kernelspec": {
   "display_name": "Python 3 (ipykernel)",
   "language": "python",
   "name": "python3"
  },
  "language_info": {
   "codemirror_mode": {
    "name": "ipython",
    "version": 3
   },
   "file_extension": ".py",
   "mimetype": "text/x-python",
   "name": "python",
   "nbconvert_exporter": "python",
   "pygments_lexer": "ipython3",
   "version": "3.9.13"
  }
 },
 "nbformat": 4,
 "nbformat_minor": 5
}
