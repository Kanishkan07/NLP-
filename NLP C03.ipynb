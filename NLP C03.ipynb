{
 "cells": [
  {
   "cell_type": "code",
   "execution_count": 23,
   "id": "9ef9edf3",
   "metadata": {},
   "outputs": [],
   "source": [
    "import nltk   "
   ]
  },
  {
   "cell_type": "code",
   "execution_count": 24,
   "id": "e8711e7f",
   "metadata": {},
   "outputs": [],
   "source": [
    "from nltk.stem.porter import *   #--> * indicates all packages and spacy have lemmatization does not have stemming"
   ]
  },
  {
   "cell_type": "code",
   "execution_count": 25,
   "id": "b577acaa",
   "metadata": {},
   "outputs": [],
   "source": [
    "porter_stemmer = PorterStemmer()"
   ]
  },
  {
   "cell_type": "code",
   "execution_count": 26,
   "id": "c169f038",
   "metadata": {},
   "outputs": [],
   "source": [
    "words = ['happy','happiest','happier','happily']"
   ]
  },
  {
   "cell_type": "code",
   "execution_count": 27,
   "id": "8381109c",
   "metadata": {},
   "outputs": [],
   "source": [
    "stemmed_words = [porter_stemmer.stem(word) for word in words] "
   ]
  },
  {
   "cell_type": "code",
   "execution_count": 28,
   "id": "c66ac642",
   "metadata": {},
   "outputs": [
    {
     "name": "stdout",
     "output_type": "stream",
     "text": [
      "['happi', 'happiest', 'happier', 'happili']\n"
     ]
    }
   ],
   "source": [
    "print(stemmed_words)"
   ]
  },
  {
   "cell_type": "code",
   "execution_count": 29,
   "id": "204c34d3",
   "metadata": {},
   "outputs": [],
   "source": [
    "from nltk.stem.snowball import SnowballStemmer"
   ]
  },
  {
   "cell_type": "code",
   "execution_count": 30,
   "id": "d307f205",
   "metadata": {},
   "outputs": [
    {
     "ename": "TypeError",
     "evalue": "__init__() missing 1 required positional argument: 'language'",
     "output_type": "error",
     "traceback": [
      "\u001b[1;31m---------------------------------------------------------------------------\u001b[0m",
      "\u001b[1;31mTypeError\u001b[0m                                 Traceback (most recent call last)",
      "\u001b[1;32m~\\AppData\\Local\\Temp\\ipykernel_19396\\806571045.py\u001b[0m in \u001b[0;36m<module>\u001b[1;34m\u001b[0m\n\u001b[1;32m----> 1\u001b[1;33m \u001b[0msnowball_stemmer\u001b[0m \u001b[1;33m=\u001b[0m \u001b[0mSnowballStemmer\u001b[0m\u001b[1;33m(\u001b[0m\u001b[1;33m)\u001b[0m \u001b[1;31m#required language\u001b[0m\u001b[1;33m\u001b[0m\u001b[1;33m\u001b[0m\u001b[0m\n\u001b[0m",
      "\u001b[1;31mTypeError\u001b[0m: __init__() missing 1 required positional argument: 'language'"
     ]
    }
   ],
   "source": [
    "snowball_stemmer = SnowballStemmer() #required language "
   ]
  },
  {
   "cell_type": "code",
   "execution_count": 33,
   "id": "bf8edd5f",
   "metadata": {},
   "outputs": [],
   "source": [
    "snowball_stemmer = SnowballStemmer(language = 'english')"
   ]
  },
  {
   "cell_type": "code",
   "execution_count": 34,
   "id": "d7c8e6dd",
   "metadata": {},
   "outputs": [],
   "source": [
    "words = ['happy','happiest','happier','happily']"
   ]
  },
  {
   "cell_type": "code",
   "execution_count": 40,
   "id": "99c55736",
   "metadata": {},
   "outputs": [],
   "source": [
    "stemmed_words1 = [snowball_stemmer.stem(word) for word in words] "
   ]
  },
  {
   "cell_type": "code",
   "execution_count": 41,
   "id": "310fd94d",
   "metadata": {},
   "outputs": [
    {
     "name": "stdout",
     "output_type": "stream",
     "text": [
      "['happi', 'happiest', 'happier', 'happili']\n"
     ]
    }
   ],
   "source": [
    "print(stemmed_words1)"
   ]
  },
  {
   "cell_type": "markdown",
   "id": "9e69a9c4",
   "metadata": {},
   "source": [
    "\n",
    "# LEMMATIZATION"
   ]
  },
  {
   "cell_type": "code",
   "execution_count": 1,
   "id": "8a2899e3",
   "metadata": {},
   "outputs": [],
   "source": [
    "import spacy\n",
    "nlp = spacy.load('en_core_web_sm') #sm indicates small models"
   ]
  },
  {
   "cell_type": "code",
   "execution_count": 13,
   "id": "5167a3a0",
   "metadata": {},
   "outputs": [],
   "source": [
    "doc= nlp('Be happy because happiness makes a human healthy and face everthying happily So Im the happiest person') "
   ]
  },
  {
   "cell_type": "code",
   "execution_count": 14,
   "id": "d7f60f78",
   "metadata": {},
   "outputs": [
    {
     "name": "stdout",
     "output_type": "stream",
     "text": [
      "Be \t AUX \t 10382539506755952630 \t be\n",
      "happy \t ADJ \t 244022080605231780 \t happy\n",
      "because \t SCONJ \t 16950148841647037698 \t because\n",
      "happiness \t NOUN \t 2779265004918961325 \t happiness\n",
      "makes \t VERB \t 9614445426764226664 \t make\n",
      "a \t DET \t 11901859001352538922 \t a\n",
      "human \t ADJ \t 5674190450704392893 \t human\n",
      "healthy \t ADJ \t 5379644128261274187 \t healthy\n",
      "and \t CCONJ \t 2283656566040971221 \t and\n",
      "face \t NOUN \t 17395397334214475556 \t face\n",
      "everthying \t VERB \t 2512104642711542076 \t everthye\n",
      "happily \t ADV \t 11249281353853680722 \t happily\n",
      "So \t ADV \t 9781598966686434415 \t so\n",
      "I \t PRON \t 4690420944186131903 \t I\n",
      "m \t VERB \t 646772771845179972 \t m\n",
      "the \t DET \t 7425985699627899538 \t the\n",
      "happiest \t ADJ \t 244022080605231780 \t happy\n",
      "person \t NOUN \t 14800503047316267216 \t person\n"
     ]
    }
   ],
   "source": [
    "for token in doc1:\n",
    "    print(token.text, \"\\t\", token.pos_,\"\\t\", token.lemma, \"\\t\",token.lemma_ )"
   ]
  },
  {
   "cell_type": "code",
   "execution_count": 15,
   "id": "3155105d",
   "metadata": {},
   "outputs": [],
   "source": [
    "def show_lemmas(text):\n",
    "    for token in text:\n",
    "        print(f'{token.text:{12}} {token.pos_:{6}} {token.lemma:<{22}} {token.lemma_}')"
   ]
  },
  {
   "cell_type": "code",
   "execution_count": 16,
   "id": "afcd364c",
   "metadata": {},
   "outputs": [],
   "source": [
    "doc1 = nlp(\"I wrote a story about a kitten\")"
   ]
  },
  {
   "cell_type": "code",
   "execution_count": 17,
   "id": "ac48b2bf",
   "metadata": {},
   "outputs": [
    {
     "name": "stdout",
     "output_type": "stream",
     "text": [
      "I            PRON   4690420944186131903    I\n",
      "wrote        VERB   15597474948775060119   write\n",
      "a            DET    11901859001352538922   a\n",
      "story        NOUN   5345497848075657444    story\n",
      "about        ADP    942632335873952620     about\n",
      "a            DET    11901859001352538922   a\n",
      "kitten       ADJ    1272805856002227951    kitten\n"
     ]
    }
   ],
   "source": [
    "show_lemmas(doc2)"
   ]
  },
  {
   "cell_type": "markdown",
   "id": "da1847a8",
   "metadata": {},
   "source": [
    "# STOP WORDS IN NLP\n"
   ]
  },
  {
   "cell_type": "markdown",
   "id": "948cd082",
   "metadata": {},
   "source": [
    "Stop words are the frequently used words\n",
    "Eg: is,an,and,the,a.\n",
    "Text with Stop words: I like to play cricket in the turf\n",
    "Text without Stop words: like, play, cricket, turf\n",
    "In NLP the objective of removing the stop words is to improve the accuracy and relevence of NLP by takng attention to the content words."
   ]
  },
  {
   "cell_type": "code",
   "execution_count": 18,
   "id": "4cd411bd",
   "metadata": {},
   "outputs": [
    {
     "name": "stdout",
     "output_type": "stream",
     "text": [
      "{'any', 'those', 'never', 'latterly', 'by', 'toward', 'where', 'often', 'herself', 'both', 'none', 'during', 'only', 'itself', 'is', 'or', 'them', 'thus', 'one', 'seemed', 'across', 'might', 'empty', 'you', \"'s\", 'also', 'so', 'therefore', \"'ve\", 'same', 'somewhere', \"'re\", 'say', 'not', 'up', 'thereupon', 'as', 'meanwhile', 'unless', 'seems', 'its', 'formerly', 'together', 'further', 'please', 'n‘t', 'anyhow', 'well', 'whole', 'eight', 'neither', 'ten', 'everywhere', 'wherein', 'except', 'hers', 'whoever', 'while', 'else', 'elsewhere', '‘s', 'under', 'their', 'whenever', 'can', 'to', 'each', 'because', 'top', 'five', \"'ll\", 'how', 'wherever', 'serious', 'thence', 'does', 'just', 'along', '‘re', 'sixty', 'really', 'there', 'various', 'less', 'whither', 'off', 'will', 'already', 'should', 'nevertheless', 'what', 'seeming', 'until', 'with', 'full', 'first', 'last', 'beside', 'fifty', 'doing', 'made', 'quite', 'per', 'yourself', 'such', 'within', 'his', 'something', 'done', 'nine', 'own', 'ever', 'i', 'go', 'could', '‘m', 'even', 'between', 'therein', 'anywhere', 'give', 'upon', 'beyond', 'too', 'much', 'perhaps', 'still', 'we', 'become', 'these', 'among', 'but', 'a', '’m', 'before', 'myself', 'either', 'due', 'would', 'used', 'must', 'had', 'most', 'than', 'anyone', 'be', 'for', 'sometimes', 'around', 'take', 'two', 'it', 'seem', 'may', 'several', 'ours', 'into', 'became', 'who', 'everyone', 'bottom', 'another', 'no', 'do', 'hereby', 'fifteen', 'moreover', 'yourselves', 'anyway', 'why', 'indeed', 'very', 'her', 'namely', 'on', 'themselves', 'others', 'my', 'becoming', 'whence', 'down', 'nothing', 'part', 'being', 'via', 'whose', 'beforehand', 'did', 'are', 'against', '‘ll', 'everything', 'all', 'sometime', 'back', 'has', 'he', 'about', 'nowhere', 'few', 'move', 'almost', 'four', 'whom', 'of', 'after', 'becomes', 'show', 'six', 'name', 'were', '‘ve', 'without', 'here', 'ca', 'herein', '’ve', 'they', 'keep', 'n’t', 'then', 'three', 'more', 'when', 'get', 'yours', 'someone', 'enough', 'other', 'some', 'using', 'though', 'however', 'former', 'call', 'himself', \"n't\", 'our', 'whereby', 'thereby', 'put', 'hundred', 'through', 'was', '’ll', 'which', 'at', 'behind', 'over', \"'m\", 'that', 'out', '’re', 'us', 'least', 'since', 'although', 'am', 'have', 'always', 'besides', 'amount', 'yet', 'and', 'see', 'whereas', 'whatever', 'nobody', 'many', 'thereafter', 'make', 'thru', 'above', 're', 'now', 'again', '’s', 'him', 'regarding', 'amongst', 'hence', 'alone', 'your', 'forty', '’d', 'twelve', 'an', 'somehow', 'anything', 'next', 'this', 'cannot', 'whereupon', 'the', 'from', 'latter', 'eleven', 'mostly', 'noone', 'me', 'twenty', 'below', 'in', 'every', '‘d', 'front', 'ourselves', 'mine', 'side', \"'d\", 'onto', 'nor', 'whether', 'rather', 'whereafter', 'hereupon', 'hereafter', 'otherwise', 'she', 'towards', 'third', 'been', 'throughout', 'if', 'once', 'afterwards'}\n"
     ]
    }
   ],
   "source": [
    "import spacy\n",
    "nlp = spacy.load('en_core_web_sm')\n",
    "print(nlp.Defaults.stop_words)"
   ]
  },
  {
   "cell_type": "code",
   "execution_count": 19,
   "id": "7d22e078",
   "metadata": {},
   "outputs": [
    {
     "data": {
      "text/plain": [
       "True"
      ]
     },
     "execution_count": 19,
     "metadata": {},
     "output_type": "execute_result"
    }
   ],
   "source": [
    "nlp.vocab['myself'].is_stop"
   ]
  },
  {
   "cell_type": "code",
   "execution_count": 22,
   "id": "3c50e51f",
   "metadata": {},
   "outputs": [
    {
     "data": {
      "text/plain": [
       "True"
      ]
     },
     "execution_count": 22,
     "metadata": {},
     "output_type": "execute_result"
    }
   ],
   "source": [
    "nlp.vocab['everything'].is_stop"
   ]
  },
  {
   "cell_type": "code",
   "execution_count": 23,
   "id": "a1ade56d",
   "metadata": {},
   "outputs": [
    {
     "data": {
      "text/plain": [
       "True"
      ]
     },
     "execution_count": 23,
     "metadata": {},
     "output_type": "execute_result"
    }
   ],
   "source": [
    "nlp.vocab['front'].is_stop"
   ]
  },
  {
   "cell_type": "code",
   "execution_count": 25,
   "id": "8736efb9",
   "metadata": {},
   "outputs": [],
   "source": [
    "nlp.Defaults.stop_words.add('fr')"
   ]
  },
  {
   "cell_type": "code",
   "execution_count": 26,
   "id": "51039195",
   "metadata": {},
   "outputs": [
    {
     "data": {
      "text/plain": [
       "True"
      ]
     },
     "execution_count": 26,
     "metadata": {},
     "output_type": "execute_result"
    }
   ],
   "source": [
    "nlp.vocab['fr'].is_stop"
   ]
  },
  {
   "cell_type": "code",
   "execution_count": 27,
   "id": "68590776",
   "metadata": {},
   "outputs": [
    {
     "name": "stdout",
     "output_type": "stream",
     "text": [
      "{'any', 'those', 'never', 'latterly', 'by', 'toward', 'where', 'often', 'herself', 'both', 'none', 'during', 'only', 'itself', 'is', 'or', 'them', 'thus', 'one', 'seemed', 'across', 'might', 'empty', 'you', \"'s\", 'also', 'so', 'therefore', \"'ve\", 'same', 'somewhere', \"'re\", 'say', 'not', 'up', 'thereupon', 'as', 'meanwhile', 'unless', 'seems', 'its', 'formerly', 'together', 'further', 'please', 'n‘t', 'anyhow', 'well', 'whole', 'eight', 'neither', 'ten', 'everywhere', 'wherein', 'except', 'hers', 'whoever', 'while', 'else', 'elsewhere', '‘s', 'under', 'their', 'whenever', 'can', 'to', 'each', 'because', 'top', 'five', \"'ll\", 'how', 'wherever', 'serious', 'thence', 'does', 'just', 'along', '‘re', 'sixty', 'btw', 'really', 'there', 'various', 'less', 'whither', 'off', 'will', 'already', 'should', 'nevertheless', 'what', 'seeming', 'until', 'with', 'full', 'first', 'last', 'beside', 'fifty', 'doing', 'made', 'quite', 'per', 'yourself', 'such', 'within', 'his', 'something', 'done', 'nine', 'own', 'ever', 'i', 'go', 'could', '‘m', 'even', 'between', 'therein', 'anywhere', 'give', 'upon', 'beyond', 'too', 'much', 'perhaps', 'still', 'we', 'become', 'these', 'among', 'but', 'a', '’m', 'before', 'myself', 'either', 'due', 'would', 'used', 'must', 'had', 'most', 'than', 'anyone', 'be', 'for', 'sometimes', 'around', 'take', 'two', 'it', 'seem', 'may', 'several', 'ours', 'into', 'became', 'who', 'everyone', 'bottom', 'another', 'no', 'do', 'hereby', 'fifteen', 'moreover', 'yourselves', 'anyway', 'why', 'indeed', 'very', 'her', 'namely', 'on', 'themselves', 'others', 'my', 'becoming', 'whence', 'down', 'nothing', 'part', 'being', 'via', 'whose', 'beforehand', 'fr', 'did', 'are', 'against', '‘ll', 'everything', 'all', 'sometime', 'back', 'has', 'he', 'about', 'nowhere', 'few', 'move', 'almost', 'four', 'whom', 'of', 'after', 'becomes', 'show', 'six', 'name', 'were', '‘ve', 'without', 'here', 'ca', 'herein', '’ve', 'they', 'keep', 'n’t', 'then', 'three', 'more', 'when', 'get', 'yours', 'someone', 'enough', 'other', 'some', 'using', 'though', 'however', 'former', 'call', 'himself', \"n't\", 'our', 'whereby', 'thereby', 'put', 'hundred', 'through', 'was', '’ll', 'which', 'at', 'behind', 'over', \"'m\", 'that', 'out', '’re', 'us', 'least', 'since', 'although', 'am', 'have', 'always', 'besides', 'amount', 'yet', 'and', 'see', 'whereas', 'whatever', 'nobody', 'many', 'thereafter', 'make', 'thru', 'above', 're', 'now', 'again', '’s', 'him', 'regarding', 'amongst', 'hence', 'alone', 'your', 'forty', '’d', 'twelve', 'an', 'somehow', 'anything', 'next', 'this', 'cannot', 'whereupon', 'the', 'from', 'latter', 'eleven', 'mostly', 'noone', 'me', 'twenty', 'below', 'in', 'every', '‘d', 'front', 'ourselves', 'mine', 'side', \"'d\", 'onto', 'nor', 'whether', 'rather', 'whereafter', 'hereupon', 'hereafter', 'otherwise', 'she', 'towards', 'third', 'been', 'throughout', 'if', 'once', 'afterwards'}\n"
     ]
    }
   ],
   "source": [
    "print(nlp.Defaults.stop_words)"
   ]
  },
  {
   "cell_type": "code",
   "execution_count": 28,
   "id": "e7a87912",
   "metadata": {},
   "outputs": [],
   "source": [
    "nlp.Defaults.stop_words.remove('fr')"
   ]
  },
  {
   "cell_type": "code",
   "execution_count": 29,
   "id": "fd4a5b2a",
   "metadata": {},
   "outputs": [
    {
     "name": "stdout",
     "output_type": "stream",
     "text": [
      "{'any', 'those', 'never', 'latterly', 'by', 'toward', 'where', 'often', 'herself', 'both', 'none', 'during', 'only', 'itself', 'is', 'or', 'them', 'thus', 'one', 'seemed', 'across', 'might', 'empty', 'you', \"'s\", 'also', 'so', 'therefore', \"'ve\", 'same', 'somewhere', \"'re\", 'say', 'not', 'up', 'thereupon', 'as', 'meanwhile', 'unless', 'seems', 'its', 'formerly', 'together', 'further', 'please', 'n‘t', 'anyhow', 'well', 'whole', 'eight', 'neither', 'ten', 'everywhere', 'wherein', 'except', 'hers', 'whoever', 'while', 'else', 'elsewhere', '‘s', 'under', 'their', 'whenever', 'can', 'to', 'each', 'because', 'top', 'five', \"'ll\", 'how', 'wherever', 'serious', 'thence', 'does', 'just', 'along', '‘re', 'sixty', 'btw', 'really', 'there', 'various', 'less', 'whither', 'off', 'will', 'already', 'should', 'nevertheless', 'what', 'seeming', 'until', 'with', 'full', 'first', 'last', 'beside', 'fifty', 'doing', 'made', 'quite', 'per', 'yourself', 'such', 'within', 'his', 'something', 'done', 'nine', 'own', 'ever', 'i', 'go', 'could', '‘m', 'even', 'between', 'therein', 'anywhere', 'give', 'upon', 'beyond', 'too', 'much', 'perhaps', 'still', 'we', 'become', 'these', 'among', 'but', 'a', '’m', 'before', 'myself', 'either', 'due', 'would', 'used', 'must', 'had', 'most', 'than', 'anyone', 'be', 'for', 'sometimes', 'around', 'take', 'two', 'it', 'seem', 'may', 'several', 'ours', 'into', 'became', 'who', 'everyone', 'bottom', 'another', 'no', 'do', 'hereby', 'fifteen', 'moreover', 'yourselves', 'anyway', 'why', 'indeed', 'very', 'her', 'namely', 'on', 'themselves', 'others', 'my', 'becoming', 'whence', 'down', 'nothing', 'part', 'being', 'via', 'whose', 'beforehand', 'did', 'are', 'against', '‘ll', 'everything', 'all', 'sometime', 'back', 'has', 'he', 'about', 'nowhere', 'few', 'move', 'almost', 'four', 'whom', 'of', 'after', 'becomes', 'show', 'six', 'name', 'were', '‘ve', 'without', 'here', 'ca', 'herein', '’ve', 'they', 'keep', 'n’t', 'then', 'three', 'more', 'when', 'get', 'yours', 'someone', 'enough', 'other', 'some', 'using', 'though', 'however', 'former', 'call', 'himself', \"n't\", 'our', 'whereby', 'thereby', 'put', 'hundred', 'through', 'was', '’ll', 'which', 'at', 'behind', 'over', \"'m\", 'that', 'out', '’re', 'us', 'least', 'since', 'although', 'am', 'have', 'always', 'besides', 'amount', 'yet', 'and', 'see', 'whereas', 'whatever', 'nobody', 'many', 'thereafter', 'make', 'thru', 'above', 're', 'now', 'again', '’s', 'him', 'regarding', 'amongst', 'hence', 'alone', 'your', 'forty', '’d', 'twelve', 'an', 'somehow', 'anything', 'next', 'this', 'cannot', 'whereupon', 'the', 'from', 'latter', 'eleven', 'mostly', 'noone', 'me', 'twenty', 'below', 'in', 'every', '‘d', 'front', 'ourselves', 'mine', 'side', \"'d\", 'onto', 'nor', 'whether', 'rather', 'whereafter', 'hereupon', 'hereafter', 'otherwise', 'she', 'towards', 'third', 'been', 'throughout', 'if', 'once', 'afterwards'}\n"
     ]
    }
   ],
   "source": [
    "print(nlp.Defaults.stop_words)"
   ]
  },
  {
   "cell_type": "code",
   "execution_count": null,
   "id": "82b0ae4a",
   "metadata": {},
   "outputs": [],
   "source": []
  }
 ],
 "metadata": {
  "kernelspec": {
   "display_name": "Python 3 (ipykernel)",
   "language": "python",
   "name": "python3"
  },
  "language_info": {
   "codemirror_mode": {
    "name": "ipython",
    "version": 3
   },
   "file_extension": ".py",
   "mimetype": "text/x-python",
   "name": "python",
   "nbconvert_exporter": "python",
   "pygments_lexer": "ipython3",
   "version": "3.9.13"
  }
 },
 "nbformat": 4,
 "nbformat_minor": 5
}
